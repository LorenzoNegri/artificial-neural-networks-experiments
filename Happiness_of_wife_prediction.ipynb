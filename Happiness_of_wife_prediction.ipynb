{
  "nbformat": 4,
  "nbformat_minor": 0,
  "metadata": {
    "anaconda-cloud": {},
    "kernelspec": {
      "display_name": "Python [conda root]",
      "language": "python",
      "name": "conda-root-py"
    },
    "language_info": {
      "codemirror_mode": {
        "name": "ipython",
        "version": 3
      },
      "file_extension": ".py",
      "mimetype": "text/x-python",
      "name": "python",
      "nbconvert_exporter": "python",
      "pygments_lexer": "ipython3",
      "version": "3.5.4"
    },
    "colab": {
      "name": "Happiness_of_wife_prediction.ipynb",
      "provenance": [],
      "collapsed_sections": [],
      "include_colab_link": true
    }
  },
  "cells": [
    {
      "cell_type": "markdown",
      "metadata": {
        "id": "view-in-github",
        "colab_type": "text"
      },
      "source": [
        "<a href=\"https://colab.research.google.com/github/LorenzoNegri/artificial-neural-networks-experiments/blob/master/Happiness_of_wife_prediction.ipynb\" target=\"_parent\"><img src=\"https://colab.research.google.com/assets/colab-badge.svg\" alt=\"Open In Colab\"/></a>"
      ]
    },
    {
      "cell_type": "markdown",
      "metadata": {
        "id": "yDRXWSaVcqhp",
        "colab_type": "text"
      },
      "source": [
        "# How to predict happiness of your wife by implementing a Neural Network with NumPy\n",
        "\n",
        "It's so difficult to understand the human brain (especially the female brain), but all human brains are so good at learning from mistakes (except male brains in some cases), and Artifical Neuron Networks can be amazing in this process as well. Let's find out if emulating an Artificial Intelligence system can help husbands understand the wife's mood better.\n",
        "\n",
        "\n",
        "So, let's suppose we made some actions in the past that have influenced our wife's mood. Those past mistakes could be easily utilized now to predict a percentage of happiness rate when some other combinations of actions are made. This information then can be used as train data for the Artificial Neural Network. AI neurons like human neurons, learn through the iterations of trial and error and, with some simple lines of code, I will show you how the same process can be emulated with Python.\n",
        "\n",
        "\n",
        "\n",
        "**Train data: past experiments of wife mood after some actions**\n",
        "\n",
        " Send a love message | Bouquet of flowers | Buy her a gift | Date together | Offer help at home | Wife happy? |\n",
        ":-------------: | :-------------: | :-------------: | :-------------: | :-------------: | :-------------: |\n",
        "y | n | n | n | n | No\n",
        "n | y | n | n | n | No\n",
        "n | y | n | n | y | No\n",
        "n | n | n | n | y | Yes\n",
        "y | n | n | y | n | Yes \n",
        "n | n | y | n | y | Yes \n",
        "y | y | n | n | n | No \n",
        "n | n | y | y | n | Yes\n",
        "y | y | y | y | n | Yes \n",
        "y | n | y | y | y | no \n",
        "\n",
        "\n",
        "The network to implement here will have five inputs (consisting of the combination of actions tried in the past), stored like: an action done, n =NO, y =YES. And one output that tells us if the wife was happy with the actions or not."
      ]
    },
    {
      "cell_type": "markdown",
      "metadata": {
        "id": "SBSGDHDiS9Bm",
        "colab_type": "text"
      },
      "source": [
        "## Artificial Intelligence can predict wife's mood?\n",
        "\n",
        "Maybe we would need a lot more data to answer this question, or maybe not, the scope here is only to building a single-layer neural network and see if it can learn to predict the happiness of a wife when a few certain combo actions are made. Just to see if AI can be smarter at learning from mistakes than husbands do.\n",
        "\n",
        "To make this learning process happen, I will convert YES and NO to binary  1 and 0s and let the neural network learn thru the iterations from the inputs and the errors made, and finally give us the output as a rate of how much happy the wife would be at the end. All we need is Python for coding with NumPy library, and if you haven't already, start by installing the library required: pip install numpy."
      ]
    },
    {
      "cell_type": "markdown",
      "metadata": {
        "id": "8u3OJU3mhD6L",
        "colab_type": "text"
      },
      "source": [
        "Let's start with the code."
      ]
    },
    {
      "cell_type": "code",
      "metadata": {
        "id": "RctVcpePcqht",
        "colab_type": "code",
        "colab": {}
      },
      "source": [
        "from numpy import exp, array, random, dot"
      ],
      "execution_count": 0,
      "outputs": []
    },
    {
      "cell_type": "markdown",
      "metadata": {
        "id": "0Koq0q7WgKg0",
        "colab_type": "text"
      },
      "source": [
        "The idea is to elaborate a really simple single-neuron network and to do this all we need is some NumPy functions like:\n",
        "1. **exp**, to calculate e^z for each value of z to use in the Logistic activation function.\n",
        "2. **array**, to manage arrays.\n",
        "3. **random**, to generate random weights to a 5 x 1 matrix.\n",
        "4. **dot**, to easily manage products of arrays.\n"
      ]
    },
    {
      "cell_type": "markdown",
      "metadata": {
        "id": "JnX9iTboRsa2",
        "colab_type": "text"
      },
      "source": [
        "## Emulating a single-neuron network on Python\n",
        "In the beginning, the network will predict the wrong wife's mood because it knows nothing about her. That's why he needs to have a \"learning\" phase where \"backpropagation\" of mistakes can let him learn wife's mood better after every trial.\n",
        "\n",
        "The single-neuron learns by comparing the correct answer (from the training table) to what he outputs, and the errors (the difference between what the network said and the correct answer we have stored) are sent backward through the network to modify each input weight so that the neuron will get closer to the correct answer at the next trial.\n",
        "\n",
        "The \"learning\" iterations are repeated over and over until the Neural Network output (a value ranged in this case from 0 to 1) is really close to the real answer (wife is happy? Yes or no, 1 or 0).\n",
        "\n",
        "This network will have five weights and one output, and I'll start by initializing random weights for the network so that the neuron can start with some values. The random weights will be then re-elaborated through the process of training by trials and then adjusted back with the errors made by predictions."
      ]
    },
    {
      "cell_type": "markdown",
      "metadata": {
        "id": "CD1XarBExLRu",
        "colab_type": "text"
      },
      "source": [
        "I will then define the **Activation function** that triggers between the feeding input and neuron network output. This function passes the weighted inputs and normalize values between [0, 1] (with Sigmoid function). Then, to evaluate the confidence of existing trained weights, I will use the **derivative of the activation function**."
      ]
    },
    {
      "cell_type": "markdown",
      "metadata": {
        "id": "SUJN0IYeJDuc",
        "colab_type": "text"
      },
      "source": [
        "Now it's time to train the model. The **Training procedure** is defined by looping the weights adjusted by the error calculated after every iteration for the predicted output (the difference between the desired output and the feed-forward output) into the input. And multiplying the errors by the inputs and by the gradient of the Sigmoid curve, to have the \"less confident weights\" to be adjusted for the second trial and, assure that those inputs that are equal to zero will not affect weights at all."
      ]
    },
    {
      "cell_type": "code",
      "metadata": {
        "id": "P7TGXBR7cqh1",
        "colab_type": "code",
        "colab": {}
      },
      "source": [
        "class SingleNeuron():\n",
        "    def __init__(wife):\n",
        "        random.seed(76)       \n",
        "        wife.weights = 2*random.random((5, 1))-1 # Random weights for 5 x 1 matrix and floating-point values in (-1, 1)\n",
        "\n",
        "    # --- Define Activation function ---\n",
        "    def sigmoid(wife, z):\n",
        "        return 1 / (1 + exp(-z))\n",
        "        # return (2/(1 + exp(-2*z))-1) tanh function\n",
        "        \n",
        "    # --- Define derivative of the Acivation function ---\n",
        "    def sigmoid_derivative(wife, z):\n",
        "        return z * (1 - z)\n",
        "        # return 1 - z**2 tanh derivative\n",
        "\n",
        "    # --- Define training procedure ---\n",
        "    def train(wife, train_in, train_out, num_iterations):   \n",
        "        for iteration in range(num_iterations): # Run for num_iterations times to train the neuron\n",
        "            output = wife.feed_fwd(train_in)  # Feed-forward through the network\n",
        "            error = train_out - output # Calculate the errors in the predicted output\n",
        "            # Multiply the error by the input and by the gradient of Sigmoid curve:\n",
        "            adjustment = dot(train_in.T, error * wife.sigmoid_derivative(output))\n",
        "            # Make adjustments to the weights with the error\n",
        "            wife.weights += adjustment\n",
        "\n",
        "    # --- Define feed-forward procedure ---\n",
        "    def feed_fwd(wife, inputs):\n",
        "        return wife.sigmoid(dot(inputs, wife.weights)) # Feed-forward inputs through the single-neuron neural network"
      ],
      "execution_count": 0,
      "outputs": []
    },
    {
      "cell_type": "markdown",
      "metadata": {
        "id": "g5Saefgdij-N",
        "colab_type": "text"
      },
      "source": [
        "## Starting, Feeding and Testing the Neural Network\n"
      ]
    },
    {
      "cell_type": "code",
      "metadata": {
        "id": "Czzn9SI4cqh8",
        "colab_type": "code",
        "colab": {}
      },
      "source": [
        "# Intialise the single-neuron neural network.\n",
        "neural_network = SingleNeuron()"
      ],
      "execution_count": 0,
      "outputs": []
    },
    {
      "cell_type": "markdown",
      "metadata": {
        "id": "8nd4tF99kecP",
        "colab_type": "text"
      },
      "source": [
        "The training data will be now inserted as array in the variable, where I've converted *y* and *n* with *1* and *0*. The output results are converted the same way into one array."
      ]
    },
    {
      "cell_type": "code",
      "metadata": {
        "id": "8ahcBDkFcqiD",
        "colab_type": "code",
        "colab": {}
      },
      "source": [
        "# print (neural_network.weights) for debugging\n",
        "\n",
        "# The train data consists of 10 examples, each consisting of 5 inputs and 1 output\n",
        "train_in = array([[1, 0, 0, 0, 0],\n",
        "                  [0, 1, 0, 0, 0],\n",
        "                  [0, 1, 0, 0, 1],\n",
        "                  [0, 0, 0, 0, 1],\n",
        "                  [1, 0, 0, 1, 0],\n",
        "                  [0, 0, 1, 0, 1],\n",
        "                  [1, 1, 0, 0, 0],\n",
        "                  [0, 0, 1, 1, 0],\n",
        "                  [1, 1, 1, 1, 0],\n",
        "                  [1, 0, 1, 1, 1]])\n",
        "train_out = array([[0, 0, 0, 1, 1, 1, 0, 1, 1, 0]]).T"
      ],
      "execution_count": 0,
      "outputs": []
    },
    {
      "cell_type": "markdown",
      "metadata": {
        "id": "7rCr5KbcmEze",
        "colab_type": "text"
      },
      "source": [
        "Now let's train the network for 10,000 iterations while the weights are being adjusted to reduce errors in the predictions when using our inputs and output results."
      ]
    },
    {
      "cell_type": "code",
      "metadata": {
        "id": "7aqZn5JQcqiJ",
        "colab_type": "code",
        "colab": {}
      },
      "source": [
        "# Training the neural network using the training inputs.\n",
        "neural_network.train(train_in, train_out, 10000)\n",
        "\n",
        "# print (neural_network.weights) # for debugging"
      ],
      "execution_count": 0,
      "outputs": []
    },
    {
      "cell_type": "markdown",
      "metadata": {
        "id": "esvMd3OMoWvZ",
        "colab_type": "text"
      },
      "source": [
        "The Neural Network is trained and hopefully our artificial intelligence has learnt how the wife brain works, we can test it using some data of actions and happiness result that we know but AI does not. "
      ]
    },
    {
      "cell_type": "markdown",
      "metadata": {
        "id": "Nz3_jLqHcqiO",
        "colab_type": "text"
      },
      "source": [
        "**Test data**\n",
        "\n",
        "Let's use the weights of the trained network to predict inputs that were not used to train the network:\n",
        "\n",
        " Send a love message | Bouquet of flowers | Buy her a gift | Date together | Offer help at home | Wife happy? |\n",
        ":-------------: | :-------------: | :-------------: | :-------------: | :-------------: | :-------------: |\n",
        "n | y | y | n | n | No\n",
        "y | n | y | n | y | Yes\n"
      ]
    },
    {
      "cell_type": "code",
      "metadata": {
        "id": "imuwrPzWcqiP",
        "colab_type": "code",
        "outputId": "55083968-3958-4eb7-b2ee-86a2f30c07d1",
        "colab": {
          "base_uri": "https://localhost:8080/",
          "height": 72
        }
      },
      "source": [
        "# Test the neural network with actions not trained on\n",
        "print (\"Inferring predicting wife happiness from the following actions: 'bring her a boquet of flowers' and 'buy her a gift'\")\n",
        "if neural_network.feed_fwd(array([0, 1, 1, 0, 0]))> 0.5:\n",
        "  print (\"Happy wife? Yes\")\n",
        "else:\n",
        "  print (\"Happy wife? No\")\n",
        "# print (neural_network.feed_fwd(array([0, 1, 1, 0, 0]))) # for debugging\n",
        "print (\"Expected output: No\")"
      ],
      "execution_count": 0,
      "outputs": [
        {
          "output_type": "stream",
          "text": [
            "Inferring predicting wife happiness from the following actions: 'bring her a boquet of flowers' and 'buy her a gift'\n",
            "Happy wife? No\n",
            "Expected output: No\n"
          ],
          "name": "stdout"
        }
      ]
    },
    {
      "cell_type": "markdown",
      "metadata": {
        "id": "e7rlQpVcpz5h",
        "colab_type": "text"
      },
      "source": [
        "The first prediction is correct!"
      ]
    },
    {
      "cell_type": "code",
      "metadata": {
        "id": "RcU-BGg-cqiU",
        "colab_type": "code",
        "outputId": "99747a17-4cc6-4ca3-9a46-2f8dbbf29300",
        "colab": {
          "base_uri": "https://localhost:8080/",
          "height": 72
        }
      },
      "source": [
        "# Test the neural network with actions not trained on\n",
        "print (\"Inferring predicting wife happiness from the following  actions: 'send a love messege', 'buy her a gift' and 'offer help at home'\")\n",
        "if neural_network.feed_fwd(array([1, 0, 1, 0, 1]))> 0.5:\n",
        "  print (\"Happy wife? Yes\")\n",
        "else:\n",
        "  print (\"Happy wife? No\")\n",
        "# print (neural_network.feed_fwd(array([1, 0, 1, 0, 1]))) # for debugging\n",
        "print (\"Expected output: Yes\")"
      ],
      "execution_count": 0,
      "outputs": [
        {
          "output_type": "stream",
          "text": [
            "Inferring predicting wife happiness from the following  actions: 'send a love messege', 'buy her a gift' and 'offer help at home'\n",
            "Happy wife? Yes\n",
            "Expected output: Yes\n"
          ],
          "name": "stdout"
        }
      ]
    },
    {
      "cell_type": "markdown",
      "metadata": {
        "id": "W1sHvnBkwDNC",
        "colab_type": "text"
      },
      "source": [
        "The results are all corect. \n",
        "\n",
        "Now we can make some future predictions on some other actions."
      ]
    },
    {
      "cell_type": "markdown",
      "metadata": {
        "id": "K62Br72rx9x2",
        "colab_type": "text"
      },
      "source": [
        " Send a love message | Bouquet of flowers | Buy her a gift | Date together | Offer help at home | Wife happy? |\n",
        ":-------------: | :-------------: | :-------------: | :-------------: | :-------------: | :-------------: |\n",
        "y | n | n | n | y | ??"
      ]
    },
    {
      "cell_type": "code",
      "metadata": {
        "id": "z5W3lg8QHDfD",
        "colab_type": "code",
        "outputId": "9dac80d1-f2a9-408e-9353-19193b5cf904",
        "colab": {
          "base_uri": "https://localhost:8080/",
          "height": 54
        }
      },
      "source": [
        "print (\"Inferring predicting wife happiness rate from the following  actions: 'send a love messege', and 'offer help at home'\")\n",
        "print (neural_network.feed_fwd(array([1, 0, 0, 0, 1])))"
      ],
      "execution_count": 0,
      "outputs": [
        {
          "output_type": "stream",
          "text": [
            "Inferring predicting wife happiness rate from the following  actions: 'send a love messege', and 'offer help at home'\n",
            "[0.44302398]\n"
          ],
          "name": "stdout"
        }
      ]
    },
    {
      "cell_type": "markdown",
      "metadata": {
        "id": "jfarFjGfyZmv",
        "colab_type": "text"
      },
      "source": [
        "Ther's a **44%** chance wife will be happy about that and it is a bit risky."
      ]
    },
    {
      "cell_type": "markdown",
      "metadata": {
        "id": "epkwMPIn4IZ4",
        "colab_type": "text"
      },
      "source": [
        ""
      ]
    },
    {
      "cell_type": "markdown",
      "metadata": {
        "id": "lCVleiNOyuUN",
        "colab_type": "text"
      },
      "source": [
        "Let's try with something else..."
      ]
    },
    {
      "cell_type": "markdown",
      "metadata": {
        "id": "x8K8xGJj0awO",
        "colab_type": "text"
      },
      "source": [
        "The following actions will make her happy?\n",
        "\n",
        " Send a love message | Bouquet of flowers | Buy her a gift | Date together | Offer help at home | Wife happy? |\n",
        ":-------------: | :-------------: | :-------------: | :-------------: | :-------------: | :-------------: |\n",
        "y | n | n | y | y | ??"
      ]
    },
    {
      "cell_type": "code",
      "metadata": {
        "id": "d7GisbEkz9U0",
        "colab_type": "code",
        "outputId": "3dc97648-b5a3-49be-fcdb-8777419ee702",
        "colab": {
          "base_uri": "https://localhost:8080/",
          "height": 54
        }
      },
      "source": [
        "print (\"Inferring predicting wife happiness rate from the following  actions: 'send a love messege', 'date together', and 'offer help at home'\")\n",
        "print (neural_network.feed_fwd(array([1, 0, 0, 1, 1])))"
      ],
      "execution_count": 0,
      "outputs": [
        {
          "output_type": "stream",
          "text": [
            "Inferring predicting wife happiness rate from the following  actions: 'send a love messege', 'date together', and 'offer help at home'\n",
            "[0.99994244]\n"
          ],
          "name": "stdout"
        }
      ]
    },
    {
      "cell_type": "markdown",
      "metadata": {
        "id": "K3SWEiHV1GqM",
        "colab_type": "text"
      },
      "source": [
        "**99%** sure she will be happy!"
      ]
    }
  ]
}